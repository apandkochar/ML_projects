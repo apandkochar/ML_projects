{
 "cells": [
  {
   "cell_type": "markdown",
   "id": "ad7e411f",
   "metadata": {},
   "source": [
    "# Boston Housing Price Prediction with DNN\n",
    "This Colab notebook implements a deep neural network for linear regression on the Boston Housing dataset."
   ]
  },
  {
   "cell_type": "code",
   "execution_count": null,
   "id": "830305b1",
   "metadata": {},
   "outputs": [],
   "source": [
    "# 1. Mount Google Drive (optional, if you want to save results)\n",
    "from google.colab import drive\n",
    "# drive.mount('/content/drive')"
   ]
  },
  {
   "cell_type": "markdown",
   "id": "32587230",
   "metadata": {},
   "source": [
    "## 2. Install and Import Dependencies"
   ]
  },
  {
   "cell_type": "code",
   "execution_count": null,
   "id": "2b281e3d",
   "metadata": {},
   "outputs": [],
   "source": [
    "!pip install tensorflow scikit-learn matplotlib"
   ]
  },
  {
   "cell_type": "code",
   "execution_count": null,
   "id": "b844c481",
   "metadata": {},
   "outputs": [],
   "source": [
    "import numpy as np\n",
    "import matplotlib.pyplot as plt\n",
    "from tensorflow.keras.datasets import boston_housing\n",
    "from tensorflow.keras import Sequential\n",
    "from tensorflow.keras.layers import Dense\n",
    "from sklearn.preprocessing import StandardScaler"
   ]
  },
  {
   "cell_type": "markdown",
   "id": "18b8efb5",
   "metadata": {},
   "source": [
    "## 3. Load and Preprocess Data"
   ]
  },
  {
   "cell_type": "code",
   "execution_count": null,
   "id": "ac4676a3",
   "metadata": {},
   "outputs": [],
   "source": [
    "# Load data\n",
    "(x_train, y_train), (x_test, y_test) = boston_housing.load_data()\n",
    "\n",
    "# Standardize features\n",
    "scaler = StandardScaler()\n",
    "x_train = scaler.fit_transform(x_train)\n",
    "x_test = scaler.transform(x_test)\n",
    "\n",
    "print(f\"Training samples: {x_train.shape[0]}, Test samples: {x_test.shape[0]}\")"
   ]
  },
  {
   "cell_type": "markdown",
   "id": "14c289e4",
   "metadata": {},
   "source": [
    "## 4. Build the DNN Model"
   ]
  },
  {
   "cell_type": "code",
   "execution_count": null,
   "id": "46fd5356",
   "metadata": {},
   "outputs": [],
   "source": [
    "model = Sequential([\n",
    "    Dense(64, activation='relu', input_shape=(x_train.shape[1],)),\n",
    "    Dense(32, activation='relu'),\n",
    "    Dense(1, activation='linear')\n",
    "])\n",
    "\n",
    "model.compile(optimizer='adam', loss='mse', metrics=['mae'])\n",
    "model.summary()"
   ]
  },
  {
   "cell_type": "markdown",
   "id": "ed13a855",
   "metadata": {},
   "source": [
    "## 5. Train the Model"
   ]
  },
  {
   "cell_type": "code",
   "execution_count": null,
   "id": "73e0af8a",
   "metadata": {},
   "outputs": [],
   "source": [
    "history = model.fit(\n",
    "    x_train, y_train,\n",
    "    validation_split=0.2,\n",
    "    epochs=100,\n",
    "    batch_size=32,\n",
    "    verbose=1\n",
    ")"
   ]
  },
  {
   "cell_type": "markdown",
   "id": "16cec329",
   "metadata": {},
   "source": [
    "## 6. Evaluate and Visualize"
   ]
  },
  {
   "cell_type": "code",
   "execution_count": null,
   "id": "92f17507",
   "metadata": {},
   "outputs": [],
   "source": [
    "# Evaluate on test data\n",
    "test_mse, test_mae = model.evaluate(x_test, y_test, verbose=0)\n",
    "print(f\"Test MSE: {test_mse:.3f}, Test MAE: {test_mae:.3f}\")\n",
    "\n",
    "# Predictions\n",
    "y_pred = model.predict(x_test).flatten()\n",
    "\n",
    "# Plot True vs Predicted\n",
    "plt.figure(figsize=(8,6))\n",
    "plt.scatter(y_test, y_pred)\n",
    "plt.plot([y_test.min(), y_test.max()], [y_test.min(), y_test.max()], 'r--')\n",
    "plt.xlabel('True Prices ($1000s)')\n",
    "plt.ylabel('Predicted Prices ($1000s)')\n",
    "plt.title('True vs Predicted Housing Prices')\n",
    "plt.show()"
   ]
  },
  {
   "cell_type": "markdown",
   "id": "65fd8b07",
   "metadata": {},
   "source": [
    "## 7. Extensions\n",
    "- Tune hyperparameters (layers, neurons, learning rate).\n",
    "- Add regularization (Dropout, L2).\n",
    "- Use callbacks like EarlyStopping.\n",
    "- Experiment with different optimizers."
   ]
  }
 ],
 "metadata": {},
 "nbformat": 4,
 "nbformat_minor": 5
}
