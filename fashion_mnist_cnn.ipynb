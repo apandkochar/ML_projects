{
 "cells": [
  {
   "cell_type": "markdown",
   "id": "32618c7d",
   "metadata": {},
   "source": [
    "# Fashion MNIST Classification with CNN\n",
    "This Colab notebook implements a Convolutional Neural Network (CNN) to classify images from the Fashion MNIST dataset."
   ]
  },
  {
   "cell_type": "code",
   "execution_count": null,
   "id": "c9b2662a",
   "metadata": {},
   "outputs": [],
   "source": [
    "# 1. (Optional) Mount Google Drive for saving models\n",
    "from google.colab import drive\n",
    "# drive.mount('/content/drive')"
   ]
  },
  {
   "cell_type": "markdown",
   "id": "e8aa8d1e",
   "metadata": {},
   "source": [
    "## 2. Install and Import Dependencies"
   ]
  },
  {
   "cell_type": "code",
   "execution_count": null,
   "id": "ee2af2ef",
   "metadata": {},
   "outputs": [],
   "source": [
    "!pip install tensorflow matplotlib\n",
    "\n",
    "import numpy as np\n",
    "import matplotlib.pyplot as plt\n",
    "from tensorflow.keras.datasets import fashion_mnist\n",
    "from tensorflow.keras import Sequential\n",
    "from tensorflow.keras.layers import Conv2D, MaxPooling2D, Flatten, Dense, Dropout"
   ]
  },
  {
   "cell_type": "markdown",
   "id": "9c59b3dc",
   "metadata": {},
   "source": [
    "## 3. Load and Preprocess Data"
   ]
  },
  {
   "cell_type": "code",
   "execution_count": null,
   "id": "c2178e03",
   "metadata": {},
   "outputs": [],
   "source": [
    "from tensorflow.keras.datasets import fashion_mnist\n",
    "(x_train, y_train), (x_test, y_test) = fashion_mnist.load_data()\n",
    "\n",
    "# Reshape and normalize\n",
    "x_train = x_train.reshape(-1, 28, 28, 1).astype('float32') / 255.0\n",
    "x_test = x_test.reshape(-1, 28, 28, 1).astype('float32') / 255.0\n",
    "\n",
    "class_names = ['T-shirt/top', 'Trouser', 'Pullover', 'Dress', 'Coat',\n",
    "               'Sandal', 'Shirt', 'Sneaker', 'Bag', 'Ankle boot']\n",
    "print(f\"Training samples: {len(x_train)}, Test samples: {len(x_test)}\")"
   ]
  },
  {
   "cell_type": "markdown",
   "id": "31dbb04e",
   "metadata": {},
   "source": [
    "## 4. Build the CNN Model"
   ]
  },
  {
   "cell_type": "code",
   "execution_count": null,
   "id": "382684a7",
   "metadata": {},
   "outputs": [],
   "source": [
    "model = Sequential([\n",
    "    Conv2D(32, (3,3), activation='relu', input_shape=(28,28,1)),\n",
    "    MaxPooling2D((2,2)),\n",
    "    Conv2D(64, (3,3), activation='relu'),\n",
    "    MaxPooling2D((2,2)),\n",
    "    Flatten(),\n",
    "    Dense(128, activation='relu'),\n",
    "    Dropout(0.5),\n",
    "    Dense(10, activation='softmax')\n",
    "])\n",
    "model.compile(optimizer='adam',\n",
    "              loss='sparse_categorical_crossentropy',\n",
    "              metrics=['accuracy'])\n",
    "model.summary()"
   ]
  },
  {
   "cell_type": "markdown",
   "id": "ec8c28d9",
   "metadata": {},
   "source": [
    "## 5. Train the Model"
   ]
  },
  {
   "cell_type": "code",
   "execution_count": null,
   "id": "d8cfa17f",
   "metadata": {},
   "outputs": [],
   "source": [
    "history = model.fit(\n",
    "    x_train, y_train,\n",
    "    epochs=10,\n",
    "    batch_size=64,\n",
    "    validation_split=0.2,\n",
    "    verbose=1\n",
    ")"
   ]
  },
  {
   "cell_type": "markdown",
   "id": "6d7a84a7",
   "metadata": {},
   "source": [
    "## 6. Evaluate and Visualize"
   ]
  },
  {
   "cell_type": "code",
   "execution_count": null,
   "id": "1c5bbae0",
   "metadata": {},
   "outputs": [],
   "source": [
    "test_loss, test_acc = model.evaluate(x_test, y_test, verbose=2)\n",
    "print(f\"Test accuracy: {test_acc:.3f}\")\n",
    "\n",
    "plt.figure(figsize=(12,5))\n",
    "plt.subplot(1,2,1)\n",
    "plt.plot(history.history['accuracy'], label='Train Acc')\n",
    "plt.plot(history.history['val_accuracy'], label='Val Acc')\n",
    "plt.xlabel('Epoch'); plt.ylabel('Accuracy'); plt.legend(); plt.title('Accuracy over Epochs')\n",
    "plt.subplot(1,2,2)\n",
    "plt.plot(history.history['loss'], label='Train Loss')\n",
    "plt.plot(history.history['val_loss'], label='Val Loss')\n",
    "plt.xlabel('Epoch'); plt.ylabel('Loss'); plt.legend(); plt.title('Loss over Epochs')\n",
    "plt.show()"
   ]
  },
  {
   "cell_type": "markdown",
   "id": "e7c74fef",
   "metadata": {},
   "source": [
    "## 7. Visualize Sample Predictions"
   ]
  },
  {
   "cell_type": "code",
   "execution_count": null,
   "id": "8e7ced6e",
   "metadata": {},
   "outputs": [],
   "source": [
    "preds = np.argmax(model.predict(x_test), axis=1)\n",
    "plt.figure(figsize=(10,10))\n",
    "for i in range(25):\n",
    "    plt.subplot(5,5,i+1)\n",
    "    plt.xticks([]); plt.yticks([]); plt.grid(False)\n",
    "    plt.imshow(x_test[i].reshape(28,28), cmap='gray')\n",
    "    col = 'green' if preds[i]==y_test[i] else 'red'\n",
    "    plt.xlabel(f\"{class_names[preds[i]]}\\n({class_names[y_test[i]]})\", color=col)\n",
    "plt.tight_layout(); plt.show()"
   ]
  },
  {
   "cell_type": "markdown",
   "id": "0002558f",
   "metadata": {},
   "source": [
    "## 8. Extensions\n",
    "- Use `ImageDataGenerator` for data augmentation\n",
    "- Try deeper or pretrained models (e.g., MobileNet)\n",
    "- Tune hyperparameters: learning rate, dropout rate, batch size"
   ]
  }
 ],
 "metadata": {},
 "nbformat": 4,
 "nbformat_minor": 5
}
